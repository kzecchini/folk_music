{
 "cells": [
  {
   "cell_type": "code",
   "execution_count": null,
   "metadata": {
    "collapsed": true
   },
   "outputs": [],
   "source": [
    "from music21 import *\n",
    "import nltk\n",
    "import pandas as pd\n",
    "from fractions import Fraction\n",
    "import numpy as np"
   ]
  },
  {
   "cell_type": "code",
   "execution_count": null,
   "metadata": {
    "collapsed": true
   },
   "outputs": [],
   "source": [
    "# see the influence of classic folk songs in popular music"
   ]
  },
  {
   "cell_type": "markdown",
   "metadata": {},
   "source": [
    "# Creating Functions to get 'bag of notes' approach"
   ]
  },
  {
   "cell_type": "code",
   "execution_count": null,
   "metadata": {
    "collapsed": true
   },
   "outputs": [],
   "source": [
    "# first pass - only worry about pitches and rests with no duration. Using actual pitches - can change to pitch classes\n",
    "# later if we get poor results (i.e. 0-11 for each possible pitch)\n",
    "\n",
    "def get_notes(inScore):\n",
    "    # check that we have single voicing - can expand to multiple voicings later. can chordify or can choose first\n",
    "    # voicing. For now we will choose the first voicing and can expand to chords later.\n",
    "    if len(inScore.parts) > 1:\n",
    "        for part in inScore.parts:\n",
    "            if part.hasElementOfClass('Measure'):\n",
    "                inScore = part\n",
    "                break\n",
    "                \n",
    "    # expand repeats in the score\n",
    "    if inScore.flat.hasElementOfClass('Repeat'):\n",
    "        inScore = inScore.expandRepeats()\n",
    "        \n",
    "    # get note list. This places chords into an ordered list - does not check if they are the same chord in different voicings\n",
    "    note_list = []\n",
    "    for element in inScore.flat.notesAndRests:\n",
    "        if element.isChord:\n",
    "            note_list.append(element.root().nameWithOctave)\n",
    "        elif element.isRest:\n",
    "            if note_list == []:\n",
    "                note_list.append('rest')\n",
    "            elif note_list[-1] != 'rest':\n",
    "                note_list.append('rest')\n",
    "            else:\n",
    "                continue\n",
    "        else:\n",
    "            note_list.append(element.nameWithOctave)\n",
    "    return note_list\n",
    "    "
   ]
  },
  {
   "cell_type": "code",
   "execution_count": null,
   "metadata": {
    "collapsed": false
   },
   "outputs": [],
   "source": [
    "def get_intervals_and_durations(inScore):\n",
    "    # check that we have single voicing - can expand to multiple voicings later. can chordify or can choose first\n",
    "    # voicing. For now we will choose the first voicing and can expand to chords later.\n",
    "    # Returns: np.array of pairwise (interval, (note1 duration, note2 duration))\n",
    "    if len(inScore.parts) > 1:\n",
    "        for part in inScore.parts:\n",
    "            if part.hasElementOfClass('Measure'):\n",
    "                inScore = part\n",
    "                break\n",
    "                \n",
    "    # expand repeats in the score\n",
    "    if inScore.flat.hasElementOfClass('Repeat'):\n",
    "        inScore = inScore.expandRepeats()\n",
    "        \n",
    "    # get interval list. This gets the root value of the chord - simplifying since there are not many songs with chords\n",
    "    interval_duration_list = []\n",
    "    note_list = []\n",
    "    prev_note = None\n",
    "    for element in inScore.flat.notes:\n",
    "        \n",
    "        # right now don't worry about rests... figure out intervals with rests later - treat as stop words\n",
    "        if prev_note == None:\n",
    "            prev_note = element\n",
    "            if element.isChord:\n",
    "                prev_note = note.Note(element.root())\n",
    "                prev_note.quarterLength = element.quarterLength\n",
    "            continue\n",
    "        cur_note = element\n",
    "        \n",
    "        # for a chord we get the root pitch and construct a note object\n",
    "        if element.isChord:\n",
    "            cur_note = note.Note(element.root())\n",
    "            cur_note.quarterLength = element.quarterLength\n",
    "        \n",
    "        # now that we only have notes, we take the interval from the previous note and get the duration of \n",
    "        # prev_note and cur_note\n",
    "\n",
    "        inter = interval.notesToChromatic(prev_note, cur_note)\n",
    "        duration = (str(prev_note.duration.quarterLength), str(cur_note.duration.quarterLength))\n",
    "        interval_duration_list.append((inter, duration))\n",
    "        prev_note = cur_note\n",
    "    return np.array(interval_duration_list)"
   ]
  },
  {
   "cell_type": "code",
   "execution_count": null,
   "metadata": {
    "collapsed": false
   },
   "outputs": [],
   "source": [
    "def stringify(interval_durations, kind='interval'):\n",
    "    # input interval_durations datastructure - output a list of string tokens to use for count_vectorizer\n",
    "    string_list = []\n",
    "    if kind == 'interval':\n",
    "        for interval in interval_durations[:,0]:\n",
    "            s = str(interval).split()[1][:-1]\n",
    "            string_list.append(s)\n",
    "    if kind == 'duration':\n",
    "        for duration in interval_durations[:,1]:\n",
    "            s = str(duration)\n",
    "            string_list.append(s)\n",
    "    if kind == 'both':\n",
    "        for interval_duration in interval_durations:\n",
    "            s = str(interval_duration).strip('[').strip(']').replace('>','')[36:]\n",
    "            string_list.append(s)\n",
    "    return string_list"
   ]
  },
  {
   "cell_type": "code",
   "execution_count": null,
   "metadata": {
    "collapsed": false,
    "scrolled": true
   },
   "outputs": [],
   "source": [
    "# create tokenizer and preprocessor for count vectorizer. Can add custom analyzer to add skip grams after for better results\n",
    "\n",
    "from sklearn.feature_extraction.text import CountVectorizer\n",
    "from nltk.util import ngrams, skipgrams\n",
    "\n",
    "def my_tokenizer(s):\n",
    "    return s.split()\n",
    "\n",
    "def my_tokenizer2(s):\n",
    "    return s\n",
    "\n",
    "def my_preprocessor(s):\n",
    "    return s"
   ]
  },
  {
   "cell_type": "markdown",
   "metadata": {},
   "source": [
    "## Now to get term matrix for all songs"
   ]
  },
  {
   "cell_type": "code",
   "execution_count": null,
   "metadata": {
    "collapsed": true
   },
   "outputs": [],
   "source": [
    "import os\n",
    "from collections import defaultdict\n",
    "# get the list of files to perform analysis\n",
    "\n",
    "def get_files(path):\n",
    "    dict_of_files = defaultdict(list)\n",
    "    \n",
    "    # grab krn files stored in the selected path. directory organized with origin (country/region/composer) \n",
    "    # as the directory name\n",
    "    for (dirpath, dirnames, filenames) in os.walk(path):\n",
    "        origin = '/'.join(dirpath.split('/')[-1:])\n",
    "        for filename in filenames:\n",
    "            if filename.endswith('.krn'):\n",
    "                dict_of_files[origin].append(os.sep.join([dirpath, filename]))\n",
    "    \n",
    "    # now grab USA folk files from music21 library\n",
    "    usa_path = corpus.getComposer('miscFolk')[0]\n",
    "    dict_of_files['usa'].append(usa_path)\n",
    "    \n",
    "    return dict_of_files"
   ]
  },
  {
   "cell_type": "code",
   "execution_count": null,
   "metadata": {
    "collapsed": false
   },
   "outputs": [],
   "source": [
    "# files saved locally on my computer - the serialized string dicts are available online\n",
    "\n",
    "files = get_files('/Users/kzecchini/ds/metis/sheet_music/data/folk_music')"
   ]
  },
  {
   "cell_type": "code",
   "execution_count": null,
   "metadata": {
    "collapsed": false
   },
   "outputs": [],
   "source": [
    "files['usa']"
   ]
  },
  {
   "cell_type": "code",
   "execution_count": null,
   "metadata": {
    "collapsed": true
   },
   "outputs": [],
   "source": [
    "def parse_song(song_file):\n",
    "    result_score = converter.parse(song_file)\n",
    "    return result_score"
   ]
  },
  {
   "cell_type": "code",
   "execution_count": null,
   "metadata": {
    "collapsed": false,
    "scrolled": true
   },
   "outputs": [],
   "source": [
    "def create_parsed_dict_notes(song_dict):\n",
    "    # use the file dictionary to make a parsed song dictionary\n",
    "    parsed_songs_dict = defaultdict(list)\n",
    "    for origin, songs in song_dict.iteritems():\n",
    "        for song in songs:\n",
    "            # parse the song - will return a stream.Score or stream.Opus object\n",
    "            song_score = parse_song(song)\n",
    "            # if the song_score is actually an opus make sure to get each individual score\n",
    "            if type(song_score) == stream.Opus:\n",
    "                for indv_song in song_score.scores:\n",
    "                    song_score_parsed = get_notes(indv_song)\n",
    "                    parsed_songs_dict[origin].append(' '.join(song_score_parsed))\n",
    "            # else it is a stream.Score object and append just that score. This should be modularized - come back later.\n",
    "            else:\n",
    "                song_score_parsed = get_notes(song_score)\n",
    "                parsed_songs_dict[origin].append(' '.join(song_score_parsed))\n",
    "    return parsed_songs_dict"
   ]
  },
  {
   "cell_type": "code",
   "execution_count": null,
   "metadata": {
    "collapsed": true
   },
   "outputs": [],
   "source": [
    "def create_parsed_dict_intervals(song_dict):\n",
    "    # use the file dictionary to make a parsed song dictionary\n",
    "    parsed_songs_dict = defaultdict(list)\n",
    "    for origin, songs in song_dict.iteritems():\n",
    "        print origin\n",
    "        for song in songs:\n",
    "            # parse the song - will return a stream.Score or stream.Opus object\n",
    "            song_score = parse_song(song)\n",
    "            # if the song_score is actually an opus make sure to get each individual score\n",
    "            if type(song_score) == stream.Opus:\n",
    "                for indv_song in song_score.scores:\n",
    "                    song_score_parsed = get_intervals_and_durations(indv_song)\n",
    "                    parsed_songs_dict[origin].append(song_score_parsed)\n",
    "            # else it is a stream.Score object and append just that score. This should be modularized - come back later.\n",
    "            else:\n",
    "                song_score_parsed = get_intervals_and_durations(song_score)\n",
    "                parsed_songs_dict[origin].append(song_score_parsed)\n",
    "    return parsed_songs_dict"
   ]
  },
  {
   "cell_type": "code",
   "execution_count": null,
   "metadata": {
    "collapsed": false,
    "scrolled": true
   },
   "outputs": [],
   "source": [
    "parsed_dict = create_parsed_dict_notes(files)"
   ]
  },
  {
   "cell_type": "code",
   "execution_count": null,
   "metadata": {
    "collapsed": false,
    "scrolled": true
   },
   "outputs": [],
   "source": [
    "parsed_dict2 = create_parsed_dict_intervals(files)"
   ]
  },
  {
   "cell_type": "code",
   "execution_count": null,
   "metadata": {
    "collapsed": false,
    "scrolled": true
   },
   "outputs": [],
   "source": [
    "parsed_dict2['romania'][-2]"
   ]
  },
  {
   "cell_type": "code",
   "execution_count": null,
   "metadata": {
    "collapsed": false
   },
   "outputs": [],
   "source": [
    "import cPickle as pickle\n",
    "\n",
    "with open('parsed_dict_notes.pkl', 'w') as picklefile:\n",
    "    pickle.dump(parsed_dict, picklefile)\n",
    "\n",
    "with open('parsed_dict_intervals.pkl', 'w') as picklefile:\n",
    "    pickle.dump(parsed_dict2, picklefile)"
   ]
  },
  {
   "cell_type": "markdown",
   "metadata": {},
   "source": [
    "# Stringify Interval/durations into three seperate dictionaries..."
   ]
  },
  {
   "cell_type": "code",
   "execution_count": null,
   "metadata": {
    "collapsed": false
   },
   "outputs": [],
   "source": [
    "def stringify_dict(interval_dict, kind='interval'):\n",
    "    result_dict = {}\n",
    "    for origin, interval_durations in interval_dict.iteritems():\n",
    "        result_list = []\n",
    "        for interval_duration in interval_durations:\n",
    "            if interval_duration.shape == (0,):\n",
    "                continue\n",
    "            result_list.append(stringify(interval_duration, kind=kind))\n",
    "        result_dict[origin] = result_list\n",
    "    return result_dict"
   ]
  },
  {
   "cell_type": "code",
   "execution_count": null,
   "metadata": {
    "collapsed": false,
    "scrolled": true
   },
   "outputs": [],
   "source": [
    "interval_dict = stringify_dict(parsed_dict2, kind='interval')\n",
    "duration_dict = stringify_dict(parsed_dict2, kind='duration')\n",
    "both_dict = stringify_dict(parsed_dict2, kind='both')"
   ]
  },
  {
   "cell_type": "code",
   "execution_count": null,
   "metadata": {
    "collapsed": false
   },
   "outputs": [],
   "source": [
    "print interval_dict['romania'][-1]\n",
    "print duration_dict['romania'][-1]\n",
    "print both_dict['romania'][-1]"
   ]
  },
  {
   "cell_type": "code",
   "execution_count": null,
   "metadata": {
    "collapsed": true
   },
   "outputs": [],
   "source": [
    "with open('interval_dict.pkl', 'w') as picklefile:\n",
    "    pickle.dump(interval_dict, picklefile)\n",
    "with open('duration_dict.pkl', 'w') as picklefile:\n",
    "    pickle.dump(duration_dict, picklefile)\n",
    "with open('both_dict.pkl', 'w') as picklefile:\n",
    "    pickle.dump(both_dict, picklefile)"
   ]
  }
 ],
 "metadata": {
  "kernelspec": {
   "display_name": "Python 2",
   "language": "python",
   "name": "python2"
  },
  "language_info": {
   "codemirror_mode": {
    "name": "ipython",
    "version": 2
   },
   "file_extension": ".py",
   "mimetype": "text/x-python",
   "name": "python",
   "nbconvert_exporter": "python",
   "pygments_lexer": "ipython2",
   "version": "2.7.11"
  }
 },
 "nbformat": 4,
 "nbformat_minor": 0
}
