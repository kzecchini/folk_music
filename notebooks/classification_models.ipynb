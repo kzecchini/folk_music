{
 "cells": [
  {
   "cell_type": "code",
   "execution_count": 340,
   "metadata": {
    "collapsed": false
   },
   "outputs": [],
   "source": [
    "from music21 import *\n",
    "import pandas as pd\n",
    "import numpy as np\n",
    "import matplotlib.pyplot as plt\n",
    "%matplotlib inline\n",
    "from collections import defaultdict\n",
    "from fractions import Fraction\n",
    "from sklearn.naive_bayes import GaussianNB, MultinomialNB\n",
    "from sklearn.linear_model import LogisticRegression\n",
    "from sklearn.feature_extraction.text import CountVectorizer\n",
    "from sklearn.ensemble import RandomForestClassifier\n",
    "from sklearn.cross_validation import train_test_split, cross_val_score\n",
    "from sklearn.metrics import accuracy_score, confusion_matrix\n",
    "from nltk.util import ngrams, skipgrams\n",
    "from sklearn.feature_extraction.text import TfidfTransformer\n",
    "from sklearn.svm import SVC\n",
    "import cPickle as pickle"
   ]
  },
  {
   "cell_type": "markdown",
   "metadata": {},
   "source": [
    "# Load dictionaries with string tokens"
   ]
  },
  {
   "cell_type": "code",
   "execution_count": 2,
   "metadata": {
    "collapsed": false
   },
   "outputs": [],
   "source": [
    "with open('interval_dict.pkl', 'r') as picklefile:\n",
    "    interval_dict = pickle.load(picklefile)\n",
    "with open('duration_dict.pkl', 'r') as picklefile:\n",
    "    duration_dict = pickle.load(picklefile)\n",
    "with open('both_dict.pkl', 'r') as picklefile:\n",
    "    both_dict = pickle.load(picklefile)"
   ]
  },
  {
   "cell_type": "markdown",
   "metadata": {},
   "source": [
    "# Creating new labels for dicts"
   ]
  },
  {
   "cell_type": "code",
   "execution_count": 241,
   "metadata": {
    "collapsed": false
   },
   "outputs": [],
   "source": [
    "def new_label(inDict):\n",
    "    return_dict = defaultdict(list)\n",
    "    for origin, values in inDict.iteritems():\n",
    "                # consolidate origins - less classes and mores samples\n",
    "\n",
    "        if origin == 'gershwin' or origin == 'foster':\n",
    "            origin = 'usa'\n",
    "        elif origin == 'pawnee' or origin == 'ojibway' or origin == 'sioux':\n",
    "            origin = 'Native American'\n",
    "        elif origin == 'england' or origin == 'british' or origin == 'ireland' or origin == 'scotland':\n",
    "            origin = 'england'\n",
    "        elif origin == 'danmark' or origin == 'sverige':\n",
    "            origin = 'Scandinavian'\n",
    "        elif origin == 'romania' or origin == 'ukraina' or origin == 'jugoslav' or origin == 'polska' or origin == 'czech':\n",
    "            origin = 'Eastern Europe'\n",
    "        elif origin == 'magyar':\n",
    "            origin = 'oesterrh'\n",
    "        elif origin[:3] == 'lux':\n",
    "            origin = 'luxemburg'\n",
    "        elif origin == 'friuli':\n",
    "            origin = 'italia'\n",
    "        elif origin == 'lorraine' or origin == 'elsass' or origin == 'lothring':\n",
    "            origin = 'france'\n",
    "        elif origin == 'allerkbd' or origin == 'altdeu1' or origin == 'altdeu2' or origin == 'ballad' or origin == 'boehme' or origin == 'dva' or origin == 'erk' or origin == 'fink' or origin == 'kinder' or origin == 'variant' or origin == 'zuccal':\n",
    "            origin = 'germany'\n",
    "        elif origin == 'chinese' or origin == 'han' or origin == 'natmin' or origin == 'shanxi' or origin == 'xinhua':\n",
    "            origin = 'china'\n",
    "        elif len(values) < 10 or origin == 'pentatonic':\n",
    "            continue\n",
    "        return_dict[origin].extend(values)\n",
    "    return return_dict"
   ]
  },
  {
   "cell_type": "markdown",
   "metadata": {},
   "source": [
    "# Creating Term Matrices"
   ]
  },
  {
   "cell_type": "code",
   "execution_count": 3,
   "metadata": {
    "collapsed": true
   },
   "outputs": [],
   "source": [
    "def my_tokenizer(s):\n",
    "    return s.split()\n",
    "\n",
    "# tokenization and preprocessing was already accomplished parsing and stringifying the data\n",
    "def my_tokenizer2(s):\n",
    "    return s\n",
    "\n",
    "def my_preprocessor(s):\n",
    "    return s"
   ]
  },
  {
   "cell_type": "code",
   "execution_count": 341,
   "metadata": {
    "collapsed": true
   },
   "outputs": [],
   "source": [
    "def count_vectorize(parsed_dict, tokenizer=None, preprocessor=None, ngram_range=(1,1), limits=None):\n",
    "    # takes in parsed_dict and vectorizer arguements to create count vectorizer. returns tuple of (sparse matrix, \n",
    "    # a vectorizer object, a list of origins for the observations)\n",
    "    \n",
    "    all_documents = []\n",
    "    origins = []\n",
    "    all_documents.extend(parsed_songs)\n",
    "    origins.extend([origin]*len(parsed_songs))\n",
    "    vectorizer = CountVectorizer(tokenizer=tokenizer, preprocessor=preprocessor, ngram_range=ngram_range)\n",
    "    X = vectorizer.fit_transform(all_documents)\n",
    "    features = vectorizer.get_feature_names()\n",
    "    return (X, features, origins)"
   ]
  },
  {
   "cell_type": "code",
   "execution_count": 342,
   "metadata": {
    "collapsed": true
   },
   "outputs": [],
   "source": [
    "def to_dataframe(count_vectorized_tuple):\n",
    "    df = pd.DataFrame(count_vectorized_tuple[0].toarray(), columns=count_vectorized_tuple[1])\n",
    "    df['origin'] = count_vectorized_tuple[2]\n",
    "    return df"
   ]
  },
  {
   "cell_type": "markdown",
   "metadata": {},
   "source": [
    "# Confusion Matrix"
   ]
  },
  {
   "cell_type": "code",
   "execution_count": 343,
   "metadata": {
    "collapsed": false
   },
   "outputs": [
    {
     "name": "stdout",
     "output_type": "stream",
     "text": [
      "Automatically created module for IPython interactive environment\n"
     ]
    }
   ],
   "source": [
    "import seaborn as sns\n",
    "import matplotlib.pyplot as plt\n",
    "import numpy as np\n",
    "%matplotlib inline\n",
    "\n",
    "print(__doc__)\n",
    "\n",
    "sns.set_style(\"whitegrid\", {'axes.grid' : False})\n",
    "\n",
    "# create confusion matrix for data\n",
    "\n",
    "def plot_confusion_matrix(cm, y_test, title='Confusion Matrix', cmap=plt.cm.Blues):\n",
    "    plt.imshow(cm, interpolation='nearest', cmap=cmap)\n",
    "    plt.title(title, fontsize=18)\n",
    "    plt.colorbar()\n",
    "    tick_marks = np.arange(len(pd.Series(y_test).unique()))\n",
    "    plt.xticks(tick_marks, sorted(pd.Series(y_test).unique()), rotation=45, fontsize=14)\n",
    "    plt.yticks(tick_marks, sorted(pd.Series(y_test).unique()), fontsize=14)\n",
    "    plt.tight_layout()\n",
    "    plt.ylabel('True label', fontsize=14)\n",
    "    plt.xlabel('Predicted label', fontsize=14)\n",
    "\n",
    "def normalize_cm(cm):\n",
    "    cm_normalized = cm.astype('float') / cm.sum(axis=1)[:, np.newaxis]\n",
    "    return cm_normalized"
   ]
  },
  {
   "cell_type": "markdown",
   "metadata": {
    "collapsed": true
   },
   "source": [
    "# Incorporating Markov to oversample"
   ]
  },
  {
   "cell_type": "code",
   "execution_count": 8,
   "metadata": {
    "collapsed": false
   },
   "outputs": [],
   "source": [
    "import markov_model_05 as markov"
   ]
  },
  {
   "cell_type": "code",
   "execution_count": 12,
   "metadata": {
    "collapsed": true
   },
   "outputs": [],
   "source": [
    "def oversample(token_list, n_samples=10):\n",
    "    size = int(np.array([len(tokens) for tokens in token_list]).mean())\n",
    "    mark = markov.Markov(token_list)\n",
    "    new_songs = []\n",
    "    for i in range(n_samples):\n",
    "        new_songs.append(mark.generate_markov_text(size=size))\n",
    "    return new_songs"
   ]
  },
  {
   "cell_type": "markdown",
   "metadata": {},
   "source": [
    "# Balancing datasets with Markov..."
   ]
  },
  {
   "cell_type": "code",
   "execution_count": 344,
   "metadata": {
    "collapsed": true
   },
   "outputs": [],
   "source": [
    "# after some testing - decided to upsample those which had data < 200 and random sample from those with data > 200\n",
    "# this kept a fair class balance which when using sample weights in modeling produced good results\n",
    "\n",
    "def balance_dict(indict):\n",
    "    balanced_dict = {}\n",
    "    for key, values in indict.iteritems():\n",
    "        len_ = len(values)\n",
    "        if len_ > 200:\n",
    "            balanced_dict[key] = list(np.random.choice(values, 200, replace=False))\n",
    "        if len_ < 200:\n",
    "            # make sure half of our values are real (only generate/oversample for half of the data)\n",
    "            if float(len_)/200 > 0.5:\n",
    "                diff = 200 - len_\n",
    "            else:\n",
    "                diff = int(0.5*len_)\n",
    "            balanced_dict[key] = values + oversample(values, n_samples=diff)\n",
    "    return balanced_dict"
   ]
  },
  {
   "cell_type": "markdown",
   "metadata": {},
   "source": [
    "# Testing With Condensed Labels"
   ]
  },
  {
   "cell_type": "code",
   "execution_count": 271,
   "metadata": {
    "collapsed": true
   },
   "outputs": [],
   "source": [
    "new_interval_dict = new_label(interval_dict)\n",
    "new_duration_dict = new_label(duration_dict)\n",
    "new_both_dict = new_label(both_dict)"
   ]
  },
  {
   "cell_type": "code",
   "execution_count": 272,
   "metadata": {
    "collapsed": false
   },
   "outputs": [
    {
     "name": "stdout",
     "output_type": "stream",
     "text": [
      "england 155\n",
      "usa 130\n",
      "Eastern Europe 224\n",
      "african 24\n",
      "nova 152\n",
      "Scandinavian 20\n",
      "nederlan 85\n",
      "oesterrh 149\n",
      "germany 5353\n",
      "luxemburg 620\n",
      "italia 80\n",
      "schweiz 93\n",
      "china 2270\n",
      "france 502\n",
      "Native American 373\n",
      "rossiya 37\n"
     ]
    }
   ],
   "source": [
    "# show how unbalanced the data is\n",
    "\n",
    "for key, values in new_both_dict.iteritems():\n",
    "    print key, len(values)"
   ]
  },
  {
   "cell_type": "code",
   "execution_count": 273,
   "metadata": {
    "collapsed": true
   },
   "outputs": [],
   "source": [
    "# create n-gram list\n",
    "test_list = [(1,1), (1,2), (2,2), (1,3), (2,3), (3,3), (3,4), (4,4), (3,5)]\n",
    "\n",
    "# create data, count-vectorize\n",
    "dicts = [new_interval_dict, new_duration_dict, new_both_dict]\n",
    "interval_count_list = []\n",
    "duration_count_list = []\n",
    "both_count_list = []\n",
    "for ngram in test_list:\n",
    "    interval_count_list.append(count_vectorize(dicts[0], tokenizer=my_tokenizer2, \n",
    "                    preprocessor=my_preprocessor, ngram_range=ngram))\n",
    "    duration_count_list.append(count_vectorize(dicts[1], tokenizer=my_tokenizer2, \n",
    "                    preprocessor=my_preprocessor, ngram_range=ngram))\n",
    "    both_count_list.append(count_vectorize(dicts[2], tokenizer=my_tokenizer2, \n",
    "                    preprocessor=my_preprocessor, ngram_range=ngram))\n",
    "    "
   ]
  },
  {
   "cell_type": "code",
   "execution_count": 274,
   "metadata": {
    "collapsed": false
   },
   "outputs": [],
   "source": [
    "# create balanced data, count-vectorize\n",
    "bal_dicts = [balance_dict(x) for x in dicts]\n",
    "bal_interval_count_list = []\n",
    "bal_duration_count_list = []\n",
    "bal_both_count_list = []\n",
    "for ngram in test_list:\n",
    "    bal_interval_count_list.append(count_vectorize(bal_dicts[0], tokenizer=my_tokenizer2, \n",
    "                    preprocessor=my_preprocessor, ngram_range=ngram))\n",
    "    bal_duration_count_list.append(count_vectorize(bal_dicts[1], tokenizer=my_tokenizer2, \n",
    "                    preprocessor=my_preprocessor, ngram_range=ngram))\n",
    "    bal_both_count_list.append(count_vectorize(bal_dicts[2], tokenizer=my_tokenizer2, \n",
    "                    preprocessor=my_preprocessor, ngram_range=ngram))"
   ]
  },
  {
   "cell_type": "code",
   "execution_count": 346,
   "metadata": {
    "collapsed": false
   },
   "outputs": [
    {
     "name": "stdout",
     "output_type": "stream",
     "text": [
      "england 200\n",
      "usa 200\n",
      "Eastern Europe 200\n",
      "nova 200\n",
      "Scandinavian 30\n",
      "nederlan 127\n",
      "oesterrh 200\n",
      "Native American 200\n",
      "germany 200\n",
      "china 200\n",
      "african 36\n",
      "schweiz 139\n",
      "italia 120\n",
      "france 200\n",
      "luxemburg 200\n",
      "rossiya 55\n"
     ]
    }
   ],
   "source": [
    "# show the balanced data (still not perfect but will be addressed in weighting in the models)\n",
    "for key, values in bal_dicts[-1].iteritems():\n",
    "    print (key, len(values))"
   ]
  },
  {
   "cell_type": "code",
   "execution_count": 254,
   "metadata": {
    "collapsed": true
   },
   "outputs": [],
   "source": [
    "# weighting function to use if 'balanced' does not work well\n",
    "\n",
    "def find_weights(y_train):\n",
    "    origins = pd.Series(y_train).value_counts()\n",
    "    weights = []\n",
    "    for origin in y_train:\n",
    "        weights.append(max(origins)/float(origins[origin]))\n",
    "    return weights"
   ]
  },
  {
   "cell_type": "code",
   "execution_count": 348,
   "metadata": {
    "collapsed": false,
    "scrolled": true
   },
   "outputs": [
    {
     "name": "stdout",
     "output_type": "stream",
     "text": [
      "Both cross val results\n",
      "(1, 1)\n",
      "[ 0.55059784  0.54279871  0.47759883]\n",
      "Both cross val results\n",
      "(1, 2)\n",
      "[ 0.68270633  0.70669004  0.65358712]\n",
      "Both cross val results\n",
      "(2, 2)\n",
      "[ 0.69612132  0.72655565  0.66793558]\n",
      "Both cross val results\n",
      "(1, 3)\n",
      "[ 0.71536891  0.74583699  0.70424597]\n",
      "Both cross val results\n",
      "(2, 3)\n",
      "[ 0.72061826  0.75314052  0.71215227]\n",
      "Both cross val results\n",
      "(3, 3)\n",
      "[ 0.71478565  0.7522641   0.70834553]\n",
      "Both cross val results\n",
      "(3, 4)\n",
      "[ 0.71303587  0.74174701  0.70863836]\n",
      "Both cross val results\n",
      "(4, 4)\n",
      "[ 0.68620589  0.70902717  0.68169839]\n",
      "Both cross val results\n",
      "(3, 5)\n",
      "[ 0.70603675  0.73152206  0.70102489]\n"
     ]
    }
   ],
   "source": [
    "# testing lr\n",
    "\n",
    "for ngram_count in both_count_list:\n",
    "    tfidf = TfidfTransformer()\n",
    "    X_tfidf = tfidf.fit_transform(ngram_count[0])\n",
    "    print ('Both cross val results')\n",
    "    print (test_list[both_count_list.index(ngram_count)])\n",
    "    print (cross_val_score(LogisticRegression(class_weight='balanced', solver='newton-cg'), \n",
    "                          X_tfidf, ngram_count[2], scoring='accuracy', cv=3, n_jobs=-1)) \n",
    "    "
   ]
  },
  {
   "cell_type": "code",
   "execution_count": 349,
   "metadata": {
    "collapsed": false
   },
   "outputs": [
    {
     "name": "stdout",
     "output_type": "stream",
     "text": [
      "Both cross val results\n",
      "(1, 1)\n",
      "0.493189006347\n",
      "Both cross val results\n",
      "(1, 2)\n",
      "0.574604132592\n",
      "Both cross val results\n",
      "(2, 2)\n",
      "0.578187413762\n",
      "Both cross val results\n",
      "(1, 3)\n",
      "0.590164275993\n",
      "Both cross val results\n",
      "(2, 3)\n",
      "0.600918903523\n",
      "Both cross val results\n",
      "(3, 3)\n",
      "0.586561136284\n",
      "Both cross val results\n",
      "(3, 4)\n",
      "0.602499808551\n"
     ]
    }
   ],
   "source": [
    "for ngram_count in bal_both_count_list[:7]:\n",
    "    tfidf = TfidfTransformer()\n",
    "    X_tfidf = tfidf.fit_transform(ngram_count[0])\n",
    "    print ('Both cross val results')\n",
    "    print (test_list[bal_both_count_list.index(ngram_count)])\n",
    "    acc = cross_val_score(LogisticRegression(class_weight='balanced', solver='newton-cg'), \n",
    "                          X_tfidf, ngram_count[2], scoring='accuracy', cv=5, n_jobs=-1)\n",
    "    print (sum(acc)/len(acc))\n",
    "    "
   ]
  },
  {
   "cell_type": "markdown",
   "metadata": {},
   "source": [
    "# Testing Naive Bayes Classifier on best n-gram model"
   ]
  },
  {
   "cell_type": "code",
   "execution_count": 350,
   "metadata": {
    "collapsed": false
   },
   "outputs": [],
   "source": [
    "tfidf = TfidfTransformer()\n",
    "X_tfidf = tfidf.fit_transform(bal_both_count_list[6][0])\n",
    "X_train, X_test, y_train, y_test = train_test_split(X_tfidf, bal_both_count_list[4][2], \n",
    "                                                    test_size=0.33, random_state=55)\n",
    "\n",
    "clf = GaussianNB()\n",
    "clf.fit(X_train.toarray(), y_train)\n",
    "pred = lr.predict(X_test.toarray())\n",
    "cm = confusion_matrix(y_test, pred)"
   ]
  },
  {
   "cell_type": "code",
   "execution_count": 351,
   "metadata": {
    "collapsed": false
   },
   "outputs": [
    {
     "data": {
      "text/plain": [
       "array([ 0.66998012,  0.71912351,  0.69261477,  0.69461078,  0.764     ])"
      ]
     },
     "execution_count": 351,
     "metadata": {},
     "output_type": "execute_result"
    }
   ],
   "source": [
    "cross_val_score(GaussianNB(), X_tfidf.toarray(), bal_both_count_list[6][2], cv=5)"
   ]
  },
  {
   "cell_type": "code",
   "execution_count": 352,
   "metadata": {
    "collapsed": false
   },
   "outputs": [
    {
     "name": "stdout",
     "output_type": "stream",
     "text": [
      "0.652264125939\n"
     ]
    }
   ],
   "source": [
    "bayes_acc = cross_val_score(MultinomialNB(), bal_both_count_list[6][0], bal_both_count_list[6][2], cv=5)\n",
    "print (sum(bayes_acc)/len(bayes_acc))\n",
    "bayes = MultinomialNB()\n",
    "bayes.fit(X_train, y_train)\n",
    "pred = bayes.predict(X_test)\n",
    "cm = confusion_matrix(y_test, pred)"
   ]
  },
  {
   "cell_type": "code",
   "execution_count": 353,
   "metadata": {
    "collapsed": false
   },
   "outputs": [
    {
     "data": {
      "image/png": "[encoded data removed]",
      "text/plain": [
       "<matplotlib.figure.Figure at 0x153234610>"
      ]
     },
     "metadata": {},
     "output_type": "display_data"
    }
   ],
   "source": [
    "plt.figure(figsize=(14, 12))\n",
    "plot_confusion_matrix(normalize_cm(cm), y_test, title='Normalized confusion matrix')"
   ]
  },
  {
   "cell_type": "markdown",
   "metadata": {},
   "source": [
    "This has problems with balance - recall and precision. Need to explore the other models which perform better on test data."
   ]
  },
  {
   "cell_type": "code",
   "execution_count": 321,
   "metadata": {
    "collapsed": false
   },
   "outputs": [
    {
     "name": "stdout",
     "output_type": "stream",
     "text": [
      "Automatically created module for IPython interactive environment\n",
      "# Tuning hyper-parameters for accuracy\n",
      "\n",
      "Best parameters set found on development set:\n",
      "\n",
      "SVC(C=100, cache_size=200, class_weight='balanced', coef0=0.0,\n",
      "  decision_function_shape=None, degree=3, gamma=0.01, kernel='rbf',\n",
      "  max_iter=-1, probability=False, random_state=None, shrinking=True,\n",
      "  tol=0.001, verbose=False)\n",
      "\n",
      "Grid scores on development set:\n",
      "\n",
      "0.182 (+/-0.012) for {'kernel': 'rbf', 'C': 1, 'gamma': 1}\n",
      "0.113 (+/-0.026) for {'kernel': 'rbf', 'C': 1, 'gamma': 0.1}\n",
      "0.063 (+/-0.017) for {'kernel': 'rbf', 'C': 1, 'gamma': 0.01}\n",
      "0.063 (+/-0.018) for {'kernel': 'rbf', 'C': 1, 'gamma': 0.001}\n",
      "0.065 (+/-0.016) for {'kernel': 'rbf', 'C': 1, 'gamma': 0.0001}\n",
      "0.379 (+/-0.022) for {'kernel': 'rbf', 'C': 10, 'gamma': 1}\n",
      "0.469 (+/-0.012) for {'kernel': 'rbf', 'C': 10, 'gamma': 0.1}\n",
      "0.085 (+/-0.011) for {'kernel': 'rbf', 'C': 10, 'gamma': 0.01}\n",
      "0.079 (+/-0.010) for {'kernel': 'rbf', 'C': 10, 'gamma': 0.001}\n",
      "0.071 (+/-0.007) for {'kernel': 'rbf', 'C': 10, 'gamma': 0.0001}\n",
      "0.379 (+/-0.022) for {'kernel': 'rbf', 'C': 100, 'gamma': 1}\n",
      "0.470 (+/-0.012) for {'kernel': 'rbf', 'C': 100, 'gamma': 0.1}\n",
      "0.471 (+/-0.011) for {'kernel': 'rbf', 'C': 100, 'gamma': 0.01}\n",
      "0.085 (+/-0.011) for {'kernel': 'rbf', 'C': 100, 'gamma': 0.001}\n",
      "0.079 (+/-0.010) for {'kernel': 'rbf', 'C': 100, 'gamma': 0.0001}\n",
      "0.379 (+/-0.022) for {'kernel': 'rbf', 'C': 1000, 'gamma': 1}\n",
      "0.470 (+/-0.012) for {'kernel': 'rbf', 'C': 1000, 'gamma': 0.1}\n",
      "0.471 (+/-0.011) for {'kernel': 'rbf', 'C': 1000, 'gamma': 0.01}\n",
      "0.471 (+/-0.011) for {'kernel': 'rbf', 'C': 1000, 'gamma': 0.001}\n",
      "0.122 (+/-0.010) for {'kernel': 'rbf', 'C': 1000, 'gamma': 0.0001}\n",
      "0.418 (+/-0.021) for {'kernel': 'linear', 'C': 1}\n",
      "0.471 (+/-0.011) for {'kernel': 'linear', 'C': 10}\n",
      "0.471 (+/-0.011) for {'kernel': 'linear', 'C': 100}\n",
      "0.471 (+/-0.011) for {'kernel': 'linear', 'C': 1000}\n",
      "0.066 (+/-0.016) for {'kernel': 'poly', 'degree': 1}\n",
      "0.054 (+/-0.012) for {'kernel': 'poly', 'degree': 2}\n",
      "0.054 (+/-0.012) for {'kernel': 'poly', 'degree': 3}\n",
      "\n",
      "Detailed classification report:\n",
      "\n",
      "The model is trained on the full development set.\n",
      "The scores are computed on the full evaluation set.\n",
      "\n",
      "             precision    recall  f1-score   support\n",
      "\n",
      "Eastern Europe       0.16      0.57      0.25        54\n",
      "Native American       0.78      0.78      0.78        63\n",
      "Scandinavian       1.00      0.22      0.36         9\n",
      "    african       1.00      0.43      0.60        14\n",
      "      china       0.82      0.89      0.85        65\n",
      "    england       0.72      0.66      0.69        62\n",
      "     france       0.26      0.51      0.35        61\n",
      "    germany       0.29      0.16      0.21        73\n",
      "     italia       1.00      0.49      0.66        53\n",
      "  luxemburg       0.32      0.40      0.36        60\n",
      "   nederlan       1.00      0.43      0.61        46\n",
      "       nova       0.83      0.57      0.68        68\n",
      "   oesterrh       0.83      0.44      0.58        68\n",
      "    rossiya       0.75      0.23      0.35        13\n",
      "    schweiz       1.00      0.53      0.69        53\n",
      "        usa       0.97      0.53      0.69        66\n",
      "\n",
      "avg / total       0.69      0.53      0.56       828\n",
      "\n",
      "\n"
     ]
    }
   ],
   "source": [
    "# pressed for time - will make this a function for easier gridsearch on parameters\n",
    "\n",
    "from sklearn.grid_search import GridSearchCV\n",
    "\n",
    "from __future__ import print_function\n",
    "\n",
    "from sklearn.grid_search import GridSearchCV\n",
    "from sklearn.metrics import classification_report\n",
    "\n",
    "print(__doc__)\n",
    "\n",
    "# Set the parameters by cross-validation\n",
    "tuned_parameters = [{'kernel': ['rbf'], 'gamma': [1,1e-1,1e-2,1e-3, 1e-4],\n",
    "                     'C': [1, 10, 100, 1000]},{'kernel': ['linear'], 'C': [1, 10, 100, 1000]},{'kernel':['poly'],'degree':[1,2,3]}]\n",
    "\n",
    "scores = ['accuracy']\n",
    "\n",
    "X_train, X_test, y_train, y_test = train_test_split(X_tfidf, bal_both_count_list[6][2], test_size=0.33, random_state=44)\n",
    "\n",
    "for score in scores:\n",
    "    print(\"# Tuning hyper-parameters for %s\" % score)\n",
    "    print()\n",
    "\n",
    "    clf = GridSearchCV(SVC(C=1, class_weight='balanced'), tuned_parameters, cv=3, scoring=score)\n",
    "    clf.fit(X_train, y_train)\n",
    "\n",
    "    print(\"Best parameters set found on development set:\")\n",
    "    print()\n",
    "    print(clf.best_estimator_)\n",
    "    print()\n",
    "    print(\"Grid scores on development set:\")\n",
    "    print()\n",
    "    for params, mean_score, scores in clf.grid_scores_:\n",
    "        print(\"%0.3f (+/-%0.03f) for %r\"\n",
    "              % (mean_score, scores.std() / 2, params))\n",
    "    print()\n",
    "\n",
    "    print(\"Detailed classification report:\")\n",
    "    print()\n",
    "    print(\"The model is trained on the full development set.\")\n",
    "    print(\"The scores are computed on the full evaluation set.\")\n",
    "    print()\n",
    "    y_true, y_pred = y_test, clf.predict(X_test)\n",
    "    print(classification_report(y_true, y_pred))\n",
    "    print()\n"
   ]
  },
  {
   "cell_type": "code",
   "execution_count": 322,
   "metadata": {
    "collapsed": false
   },
   "outputs": [
    {
     "name": "stdout",
     "output_type": "stream",
     "text": [
      "# Tuning hyper-parameters for accuracy\n",
      "\n",
      "Best parameters set found on development set:\n",
      "\n",
      "LogisticRegression(C=1000, class_weight='balanced', dual=False,\n",
      "          fit_intercept=True, intercept_scaling=1, max_iter=100,\n",
      "          multi_class='ovr', n_jobs=-1, penalty='l2', random_state=None,\n",
      "          solver='newton-cg', tol=0.0001, verbose=0, warm_start=False)\n",
      "\n",
      "Grid scores on development set:\n",
      "\n",
      "0.480 (+/-0.016) for {'penalty': 'l2', 'C': 0.0001}\n",
      "0.481 (+/-0.016) for {'penalty': 'l2', 'C': 0.001}\n",
      "0.481 (+/-0.016) for {'penalty': 'l2', 'C': 0.01}\n",
      "0.498 (+/-0.012) for {'penalty': 'l2', 'C': 0.1}\n",
      "0.540 (+/-0.010) for {'penalty': 'l2', 'C': 1}\n",
      "0.566 (+/-0.011) for {'penalty': 'l2', 'C': 10}\n",
      "0.574 (+/-0.010) for {'penalty': 'l2', 'C': 100}\n",
      "0.575 (+/-0.010) for {'penalty': 'l2', 'C': 1000}\n",
      "\n",
      "Detailed classification report:\n",
      "\n",
      "The model is trained on the full development set.\n",
      "The scores are computed on the full evaluation set.\n",
      "\n",
      "             precision    recall  f1-score   support\n",
      "\n",
      "Eastern Europe       0.25      0.43      0.31        54\n",
      "Native American       0.68      0.92      0.78        63\n",
      "Scandinavian       1.00      0.78      0.88         9\n",
      "    african       0.88      0.50      0.64        14\n",
      "      china       0.73      0.94      0.82        65\n",
      "    england       0.72      0.84      0.78        62\n",
      "     france       0.37      0.44      0.40        61\n",
      "    germany       0.30      0.19      0.23        73\n",
      "     italia       1.00      0.62      0.77        53\n",
      "  luxemburg       0.38      0.47      0.42        60\n",
      "   nederlan       0.90      0.57      0.69        46\n",
      "       nova       0.74      0.79      0.77        68\n",
      "   oesterrh       0.77      0.63      0.69        68\n",
      "    rossiya       0.75      0.46      0.57        13\n",
      "    schweiz       0.95      0.68      0.79        53\n",
      "        usa       0.82      0.61      0.70        66\n",
      "\n",
      "avg / total       0.66      0.62      0.63       828\n",
      "\n",
      "\n"
     ]
    }
   ],
   "source": [
    "tuned_parameters = [{'penalty': ['l2'], 'C': [1e-4, 1e-3, 1e-2, 1e-1, 1, 10, 100, 1000]}]\n",
    "scores = ['accuracy']\n",
    "\n",
    "X_train, X_test, y_train, y_test = train_test_split(X_tfidf, \n",
    "                                                    bal_both_count_list[6][2], test_size=0.33, random_state=44)\n",
    "\n",
    "for score in scores:\n",
    "    print(\"# Tuning hyper-parameters for %s\" % score)\n",
    "    print()\n",
    "\n",
    "    clf = GridSearchCV(LogisticRegression(solver='newton-cg', n_jobs=-1, class_weight='balanced'), tuned_parameters, cv=3, scoring=score)\n",
    "    clf.fit(X_train, y_train)\n",
    "\n",
    "    print(\"Best parameters set found on development set:\")\n",
    "    print()\n",
    "    print(clf.best_estimator_)\n",
    "    print()\n",
    "    print(\"Grid scores on development set:\")\n",
    "    print()\n",
    "    for params, mean_score, scores in clf.grid_scores_:\n",
    "        print(\"%0.3f (+/-%0.03f) for %r\"\n",
    "              % (mean_score, scores.std() / 2, params))\n",
    "    print()\n",
    "\n",
    "    print(\"Detailed classification report:\")\n",
    "    print()\n",
    "    print(\"The model is trained on the full development set.\")\n",
    "    print(\"The scores are computed on the full evaluation set.\")\n",
    "    print()\n",
    "    y_true, y_pred = y_test, clf.predict(X_test)\n",
    "    print(classification_report(y_true, y_pred))\n",
    "    print()"
   ]
  },
  {
   "cell_type": "code",
   "execution_count": 339,
   "metadata": {
    "collapsed": false,
    "scrolled": false
   },
   "outputs": [
    {
     "name": "stdout",
     "output_type": "stream",
     "text": [
      "0.613526570048\n"
     ]
    },
    {
     "data": {
      "image/png": "[encoded data removed]",
      "text/plain": [
       "<matplotlib.figure.Figure at 0x150ae84d0>"
      ]
     },
     "metadata": {},
     "output_type": "display_data"
    }
   ],
   "source": [
    "X_train, X_test, y_train, y_test = train_test_split(X_tfidf, \n",
    "                                                    bal_both_count_list[4][2], test_size=0.33, random_state=44)\n",
    "\n",
    "clf = LogisticRegression(solver='newton-cg', n_jobs=-1, class_weight='balanced', C=1000)\n",
    "clf.fit(X_train, y_train)\n",
    "pred = clf.predict(X_test)\n",
    "print (accuracy_score(y_test, pred))\n",
    "cm = confusion_matrix(y_test, pred)\n",
    "\n",
    "plt.figure(figsize=(14, 12))\n",
    "plot_confusion_matrix(normalize_cm(cm), y_test, title='Normalized confusion matrix')\n"
   ]
  },
  {
   "cell_type": "code",
   "execution_count": null,
   "metadata": {
    "collapsed": true
   },
   "outputs": [],
   "source": []
  },
  {
   "cell_type": "code",
   "execution_count": null,
   "metadata": {
    "collapsed": true
   },
   "outputs": [],
   "source": []
  },
  {
   "cell_type": "code",
   "execution_count": null,
   "metadata": {
    "collapsed": true
   },
   "outputs": [],
   "source": []
  }
 ],
 "metadata": {
  "kernelspec": {
   "display_name": "Python 2",
   "language": "python",
   "name": "python2"
  },
  "language_info": {
   "codemirror_mode": {
    "name": "ipython",
    "version": 2
   },
   "file_extension": ".py",
   "mimetype": "text/x-python",
   "name": "python",
   "nbconvert_exporter": "python",
   "pygments_lexer": "ipython2",
   "version": "2.7.11"
  }
 },
 "nbformat": 4,
 "nbformat_minor": 0
}
